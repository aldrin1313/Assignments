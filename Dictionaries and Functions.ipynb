{
 "cells": [
  {
   "cell_type": "markdown",
   "id": "5ddfaf67",
   "metadata": {},
   "source": [
    "## Question 1.1"
   ]
  },
  {
   "cell_type": "code",
   "execution_count": 67,
   "id": "850bb92a",
   "metadata": {},
   "outputs": [
    {
     "name": "stdout",
     "output_type": "stream",
     "text": [
      "Enter the first side: 5\n",
      "Enter the second side: 5\n",
      "Enter the third side: 6\n"
     ]
    }
   ],
   "source": [
    "class shape:\n",
    "    def __init__(self,first,second,third):\n",
    "        self.a=float(first)\n",
    "        self.b=float(second)\n",
    "        self.c=float(third)\n",
    "first=int(input(\"Enter the first side: \"))\n",
    "second=int(input(\"Enter the second side: \"))\n",
    "third=int(input(\"Enter the third side: \"))\n",
    "\n",
    "class child(shape):\n",
    "    def __init__(self,a,b,c):\n",
    "        super().__init__(a,b,c)\n",
    "    \n",
    "    def total(self):\n",
    "        s= int((self.a + self.b + self.c) / 2)\n",
    "        area = (s * (s - self.a) * (s - self.b) * (s - self.c))**0.5\n",
    "        return area\n"
   ]
  },
  {
   "cell_type": "code",
   "execution_count": 68,
   "id": "a36706a4",
   "metadata": {},
   "outputs": [
    {
     "name": "stdout",
     "output_type": "stream",
     "text": [
      "area : 14.696938456699069\n"
     ]
    }
   ],
   "source": [
    "result=child(a,b,c)\n",
    "print(\"area : {}\".format(result.total()))"
   ]
  },
  {
   "cell_type": "markdown",
   "id": "96d06206",
   "metadata": {},
   "source": [
    "## Question 1.2"
   ]
  },
  {
   "cell_type": "code",
   "execution_count": 110,
   "id": "026dba67",
   "metadata": {},
   "outputs": [],
   "source": [
    "words=['vowel','melbourne','tom','done']\n",
    "list1=[]\n",
    "def filter_long_words(words,n):\n",
    "    for i in range(len(words)):\n",
    "        if len(words[i])>n:\n",
    "            list1.append(words[i])\n",
    "    print(list1)"
   ]
  },
  {
   "cell_type": "code",
   "execution_count": 111,
   "id": "9fe3b8bb",
   "metadata": {},
   "outputs": [
    {
     "name": "stdout",
     "output_type": "stream",
     "text": [
      "['vowel', 'melbourne']\n"
     ]
    }
   ],
   "source": [
    "filter_long_words(words,4)"
   ]
  },
  {
   "cell_type": "markdown",
   "id": "e4cc1137",
   "metadata": {},
   "source": [
    "## Question 2.1"
   ]
  },
  {
   "cell_type": "code",
   "execution_count": 161,
   "id": "080fd420",
   "metadata": {},
   "outputs": [],
   "source": [
    "words=['vowel','melbourne','tom','done']\n",
    "list2=[]\n",
    "def length(words):\n",
    "    for i in range(len(words)):\n",
    "        list2.append(len(words[i]))\n",
    "    return list2"
   ]
  },
  {
   "cell_type": "code",
   "execution_count": 162,
   "id": "688e2927",
   "metadata": {},
   "outputs": [
    {
     "data": {
      "text/plain": [
       "[5, 9, 3, 4]"
      ]
     },
     "execution_count": 162,
     "metadata": {},
     "output_type": "execute_result"
    }
   ],
   "source": [
    "length(words)"
   ]
  },
  {
   "cell_type": "markdown",
   "id": "ea635e74",
   "metadata": {},
   "source": [
    "## Question 2.2"
   ]
  },
  {
   "cell_type": "code",
   "execution_count": 177,
   "id": "1a4d827b",
   "metadata": {},
   "outputs": [
    {
     "name": "stdout",
     "output_type": "stream",
     "text": [
      "Enter the character: h\n"
     ]
    },
    {
     "data": {
      "text/plain": [
       "True"
      ]
     },
     "execution_count": 177,
     "metadata": {},
     "output_type": "execute_result"
    }
   ],
   "source": [
    "def Vowel(letter):\n",
    "    vowels=('a','e','i','o','u')\n",
    "    if letter \n",
    "        return True\n",
    "    return False\n",
    "n=input('Enter the character: ')\n",
    "Vowel(n)\n",
    "        "
   ]
  },
  {
   "cell_type": "code",
   "execution_count": null,
   "id": "9595ac79",
   "metadata": {},
   "outputs": [],
   "source": []
  }
 ],
 "metadata": {
  "kernelspec": {
   "display_name": "Python 3 (ipykernel)",
   "language": "python",
   "name": "python3"
  },
  "language_info": {
   "codemirror_mode": {
    "name": "ipython",
    "version": 3
   },
   "file_extension": ".py",
   "mimetype": "text/x-python",
   "name": "python",
   "nbconvert_exporter": "python",
   "pygments_lexer": "ipython3",
   "version": "3.9.7"
  }
 },
 "nbformat": 4,
 "nbformat_minor": 5
}
