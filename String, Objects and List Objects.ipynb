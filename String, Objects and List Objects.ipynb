{
 "cells": [
  {
   "cell_type": "markdown",
   "id": "a4eaaf10",
   "metadata": {},
   "source": [
    "## Question 1"
   ]
  },
  {
   "cell_type": "code",
   "execution_count": 45,
   "id": "5a78cb3c",
   "metadata": {},
   "outputs": [
    {
     "name": "stdout",
     "output_type": "stream",
     "text": [
      "Enter the value: 4\n"
     ]
    }
   ],
   "source": [
    "n=int(input('Enter the value: '))"
   ]
  },
  {
   "cell_type": "code",
   "execution_count": 51,
   "id": "0afac869",
   "metadata": {},
   "outputs": [
    {
     "name": "stdout",
     "output_type": "stream",
     "text": [
      "* \n",
      "* * \n",
      "* * * \n",
      "* * * * \n",
      "* * *  \n",
      "* *  \n",
      "*  \n",
      " \n",
      " \n"
     ]
    }
   ],
   "source": [
    "for i in range(0,n):\n",
    "    for j in range(0,i+1):\n",
    "        print(\"*\",end=\" \")\n",
    "    print(\"\")\n",
    "for i in range(n + 1,0,-1):  \n",
    "    for j in range(0, i - 2):  \n",
    "        print(\"*\", end=' ')  \n",
    "    print(\" \")  "
   ]
  },
  {
   "cell_type": "markdown",
   "id": "bdb8cc0c",
   "metadata": {},
   "source": [
    "## Question No. 2"
   ]
  },
  {
   "cell_type": "code",
   "execution_count": 2,
   "id": "cf4aa6c9",
   "metadata": {},
   "outputs": [
    {
     "name": "stdout",
     "output_type": "stream",
     "text": [
      "Enter the name: Home\n"
     ]
    }
   ],
   "source": [
    "a=input('Enter the name: ')"
   ]
  },
  {
   "cell_type": "code",
   "execution_count": 18,
   "id": "9ca53028",
   "metadata": {},
   "outputs": [],
   "source": [
    "def reverse(a):\n",
    "    str1= ''\n",
    "    for i in a:\n",
    "        str1=i+str1\n",
    "    return str1"
   ]
  },
  {
   "cell_type": "code",
   "execution_count": 20,
   "id": "a671875e",
   "metadata": {},
   "outputs": [
    {
     "name": "stdout",
     "output_type": "stream",
     "text": [
      "The reversed name is emoH\n"
     ]
    }
   ],
   "source": [
    "print('The reversed name is',reverse(a))"
   ]
  },
  {
   "cell_type": "code",
   "execution_count": null,
   "id": "16bbe7e0",
   "metadata": {},
   "outputs": [],
   "source": []
  }
 ],
 "metadata": {
  "kernelspec": {
   "display_name": "Python 3 (ipykernel)",
   "language": "python",
   "name": "python3"
  },
  "language_info": {
   "codemirror_mode": {
    "name": "ipython",
    "version": 3
   },
   "file_extension": ".py",
   "mimetype": "text/x-python",
   "name": "python",
   "nbconvert_exporter": "python",
   "pygments_lexer": "ipython3",
   "version": "3.9.7"
  }
 },
 "nbformat": 4,
 "nbformat_minor": 5
}
