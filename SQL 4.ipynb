{
 "cells": [
  {
   "cell_type": "code",
   "execution_count": 22,
   "id": "26df3be2",
   "metadata": {},
   "outputs": [],
   "source": [
    "import mysql.connector as conn\n",
    "import pandas as pd"
   ]
  },
  {
   "cell_type": "code",
   "execution_count": 4,
   "id": "d761b6e0",
   "metadata": {},
   "outputs": [],
   "source": [
    "mydb=conn.connect(host='localhost', user='root',password='mysql')"
   ]
  },
  {
   "cell_type": "code",
   "execution_count": 5,
   "id": "c199c605",
   "metadata": {},
   "outputs": [],
   "source": [
    "cursor=mydb.cursor()"
   ]
  },
  {
   "cell_type": "code",
   "execution_count": 6,
   "id": "1e5eede0",
   "metadata": {},
   "outputs": [],
   "source": [
    "cursor.execute('show databases')"
   ]
  },
  {
   "cell_type": "code",
   "execution_count": 7,
   "id": "86492929",
   "metadata": {},
   "outputs": [
    {
     "data": {
      "text/plain": [
       "[('bank',),\n",
       " ('ineuron',),\n",
       " ('ineuron1',),\n",
       " ('information_schema',),\n",
       " ('mysql',),\n",
       " ('org',),\n",
       " ('performance_schema',),\n",
       " ('sakila',),\n",
       " ('sys',),\n",
       " ('world',)]"
      ]
     },
     "execution_count": 7,
     "metadata": {},
     "output_type": "execute_result"
    }
   ],
   "source": [
    "cursor.fetchall()"
   ]
  },
  {
   "cell_type": "code",
   "execution_count": 8,
   "id": "d09a619f",
   "metadata": {},
   "outputs": [],
   "source": [
    "cursor.execute('use org')"
   ]
  },
  {
   "cell_type": "code",
   "execution_count": 9,
   "id": "078c24a2",
   "metadata": {},
   "outputs": [],
   "source": [
    "cursor.execute('show tables')"
   ]
  },
  {
   "cell_type": "code",
   "execution_count": 10,
   "id": "75635c3b",
   "metadata": {},
   "outputs": [
    {
     "data": {
      "text/plain": [
       "[('data',), ('worker',)]"
      ]
     },
     "execution_count": 10,
     "metadata": {},
     "output_type": "execute_result"
    }
   ],
   "source": [
    "cursor.fetchall()"
   ]
  },
  {
   "cell_type": "code",
   "execution_count": 11,
   "id": "458e94e2",
   "metadata": {},
   "outputs": [],
   "source": [
    "cursor.execute('select * from worker')"
   ]
  },
  {
   "cell_type": "code",
   "execution_count": 13,
   "id": "aed45b79",
   "metadata": {},
   "outputs": [
    {
     "data": {
      "text/plain": [
       "[]"
      ]
     },
     "execution_count": 13,
     "metadata": {},
     "output_type": "execute_result"
    }
   ],
   "source": [
    "cursor.fetchall()"
   ]
  },
  {
   "cell_type": "code",
   "execution_count": 14,
   "id": "bddf74af",
   "metadata": {},
   "outputs": [],
   "source": [
    "cursor.execute(\"INSERT into WORKER values (001, 'Monica', 'Arora', 100000, 'HR'), (002, 'Niharika', 'Verma', 80000, 'Admin'), (003, 'Vishal', 'Singhal', 300000, 'HR'),(004, 'Amitabh', 'Singh', 500000, 'Admin'), (005, 'Vivek', 'Bhati', 500000, 'Admin'), (006, 'Vipul', 'Diwan', 200000, 'Account'), (007, 'Satish', 'Kumar', 75000, 'Account'), (008, 'Geetika', 'Chauhan', 90000, 'Admin');\")"
   ]
  },
  {
   "cell_type": "code",
   "execution_count": 15,
   "id": "7f520ff6",
   "metadata": {},
   "outputs": [],
   "source": [
    "cursor.execute('select * from worker')"
   ]
  },
  {
   "cell_type": "code",
   "execution_count": 16,
   "id": "f8dea06a",
   "metadata": {},
   "outputs": [
    {
     "data": {
      "text/plain": [
       "[(1, 'Monica', 'Arora', 100000, 'HR'),\n",
       " (2, 'Niharika', 'Verma', 80000, 'Admin'),\n",
       " (3, 'Vishal', 'Singhal', 300000, 'HR'),\n",
       " (4, 'Amitabh', 'Singh', 500000, 'Admin'),\n",
       " (5, 'Vivek', 'Bhati', 500000, 'Admin'),\n",
       " (6, 'Vipul', 'Diwan', 200000, 'Account'),\n",
       " (7, 'Satish', 'Kumar', 75000, 'Account'),\n",
       " (8, 'Geetika', 'Chauhan', 90000, 'Admin')]"
      ]
     },
     "execution_count": 16,
     "metadata": {},
     "output_type": "execute_result"
    }
   ],
   "source": [
    "cursor.fetchall()"
   ]
  },
  {
   "cell_type": "markdown",
   "id": "7c43aaf3",
   "metadata": {},
   "source": [
    "# Q-1. Write an SQL query to print the FIRST_NAME from Worker table after replacing ‘a’ with ‘A’."
   ]
  },
  {
   "cell_type": "code",
   "execution_count": 35,
   "id": "a53d0265",
   "metadata": {},
   "outputs": [],
   "source": [
    "cursor.execute('select replace(first_name,\"a\",\"A\") from worker')"
   ]
  },
  {
   "cell_type": "code",
   "execution_count": 36,
   "id": "7b9c1bb6",
   "metadata": {},
   "outputs": [
    {
     "data": {
      "text/plain": [
       "[('MonicA',),\n",
       " ('NihArikA',),\n",
       " ('VishAl',),\n",
       " ('AmitAbh',),\n",
       " ('Vivek',),\n",
       " ('Vipul',),\n",
       " ('SAtish',),\n",
       " ('GeetikA',)]"
      ]
     },
     "execution_count": 36,
     "metadata": {},
     "output_type": "execute_result"
    }
   ],
   "source": [
    "cursor.fetchall()"
   ]
  },
  {
   "cell_type": "markdown",
   "id": "fa9443d2",
   "metadata": {},
   "source": [
    "# Q-2. Write an SQL query to print all Worker details from the Worker table order by FIRST_NAME Ascending and DEPARTMENT Descending."
   ]
  },
  {
   "cell_type": "code",
   "execution_count": 19,
   "id": "9fb81cc6",
   "metadata": {},
   "outputs": [],
   "source": [
    "cursor.execute('select * from worker order by FIRST_NAME asc , department desc')"
   ]
  },
  {
   "cell_type": "code",
   "execution_count": 20,
   "id": "54317be6",
   "metadata": {},
   "outputs": [
    {
     "data": {
      "text/plain": [
       "[(4, 'Amitabh', 'Singh', 500000, 'Admin'),\n",
       " (8, 'Geetika', 'Chauhan', 90000, 'Admin'),\n",
       " (1, 'Monica', 'Arora', 100000, 'HR'),\n",
       " (2, 'Niharika', 'Verma', 80000, 'Admin'),\n",
       " (7, 'Satish', 'Kumar', 75000, 'Account'),\n",
       " (6, 'Vipul', 'Diwan', 200000, 'Account'),\n",
       " (3, 'Vishal', 'Singhal', 300000, 'HR'),\n",
       " (5, 'Vivek', 'Bhati', 500000, 'Admin')]"
      ]
     },
     "execution_count": 20,
     "metadata": {},
     "output_type": "execute_result"
    }
   ],
   "source": [
    "cursor.fetchall()"
   ]
  },
  {
   "cell_type": "code",
   "execution_count": 23,
   "id": "bdd3c71d",
   "metadata": {},
   "outputs": [
    {
     "data": {
      "text/html": [
       "<div>\n",
       "<style scoped>\n",
       "    .dataframe tbody tr th:only-of-type {\n",
       "        vertical-align: middle;\n",
       "    }\n",
       "\n",
       "    .dataframe tbody tr th {\n",
       "        vertical-align: top;\n",
       "    }\n",
       "\n",
       "    .dataframe thead th {\n",
       "        text-align: right;\n",
       "    }\n",
       "</style>\n",
       "<table border=\"1\" class=\"dataframe\">\n",
       "  <thead>\n",
       "    <tr style=\"text-align: right;\">\n",
       "      <th></th>\n",
       "      <th>WORKER_ID</th>\n",
       "      <th>FIRST_NAME</th>\n",
       "      <th>LAST_NAME</th>\n",
       "      <th>WAGE</th>\n",
       "      <th>DEPARTMENT</th>\n",
       "    </tr>\n",
       "  </thead>\n",
       "  <tbody>\n",
       "    <tr>\n",
       "      <th>0</th>\n",
       "      <td>4</td>\n",
       "      <td>Amitabh</td>\n",
       "      <td>Singh</td>\n",
       "      <td>500000</td>\n",
       "      <td>Admin</td>\n",
       "    </tr>\n",
       "    <tr>\n",
       "      <th>1</th>\n",
       "      <td>8</td>\n",
       "      <td>Geetika</td>\n",
       "      <td>Chauhan</td>\n",
       "      <td>90000</td>\n",
       "      <td>Admin</td>\n",
       "    </tr>\n",
       "    <tr>\n",
       "      <th>2</th>\n",
       "      <td>1</td>\n",
       "      <td>Monica</td>\n",
       "      <td>Arora</td>\n",
       "      <td>100000</td>\n",
       "      <td>HR</td>\n",
       "    </tr>\n",
       "    <tr>\n",
       "      <th>3</th>\n",
       "      <td>2</td>\n",
       "      <td>Niharika</td>\n",
       "      <td>Verma</td>\n",
       "      <td>80000</td>\n",
       "      <td>Admin</td>\n",
       "    </tr>\n",
       "    <tr>\n",
       "      <th>4</th>\n",
       "      <td>7</td>\n",
       "      <td>Satish</td>\n",
       "      <td>Kumar</td>\n",
       "      <td>75000</td>\n",
       "      <td>Account</td>\n",
       "    </tr>\n",
       "    <tr>\n",
       "      <th>5</th>\n",
       "      <td>6</td>\n",
       "      <td>Vipul</td>\n",
       "      <td>Diwan</td>\n",
       "      <td>200000</td>\n",
       "      <td>Account</td>\n",
       "    </tr>\n",
       "    <tr>\n",
       "      <th>6</th>\n",
       "      <td>3</td>\n",
       "      <td>Vishal</td>\n",
       "      <td>Singhal</td>\n",
       "      <td>300000</td>\n",
       "      <td>HR</td>\n",
       "    </tr>\n",
       "    <tr>\n",
       "      <th>7</th>\n",
       "      <td>5</td>\n",
       "      <td>Vivek</td>\n",
       "      <td>Bhati</td>\n",
       "      <td>500000</td>\n",
       "      <td>Admin</td>\n",
       "    </tr>\n",
       "  </tbody>\n",
       "</table>\n",
       "</div>"
      ],
      "text/plain": [
       "   WORKER_ID FIRST_NAME LAST_NAME    WAGE DEPARTMENT\n",
       "0          4    Amitabh     Singh  500000      Admin\n",
       "1          8    Geetika   Chauhan   90000      Admin\n",
       "2          1     Monica     Arora  100000         HR\n",
       "3          2   Niharika     Verma   80000      Admin\n",
       "4          7     Satish     Kumar   75000    Account\n",
       "5          6      Vipul     Diwan  200000    Account\n",
       "6          3     Vishal   Singhal  300000         HR\n",
       "7          5      Vivek     Bhati  500000      Admin"
      ]
     },
     "execution_count": 23,
     "metadata": {},
     "output_type": "execute_result"
    }
   ],
   "source": [
    "pd.read_sql('select * from worker order by FIRST_NAME asc , department desc',mydb)"
   ]
  },
  {
   "cell_type": "markdown",
   "id": "8a94a6df",
   "metadata": {},
   "source": [
    "# Q-3. Write an SQL query to fetch the names of workers who earn the highest salary."
   ]
  },
  {
   "cell_type": "code",
   "execution_count": 29,
   "id": "b32fae8f",
   "metadata": {},
   "outputs": [],
   "source": [
    "cursor.execute('select first_name from worker where wage=(select max(wage) from worker) ')"
   ]
  },
  {
   "cell_type": "code",
   "execution_count": 30,
   "id": "43e775dd",
   "metadata": {},
   "outputs": [
    {
     "data": {
      "text/plain": [
       "[('Amitabh',), ('Vivek',)]"
      ]
     },
     "execution_count": 30,
     "metadata": {},
     "output_type": "execute_result"
    }
   ],
   "source": [
    "cursor.fetchall()"
   ]
  }
 ],
 "metadata": {
  "kernelspec": {
   "display_name": "Python 3 (ipykernel)",
   "language": "python",
   "name": "python3"
  },
  "language_info": {
   "codemirror_mode": {
    "name": "ipython",
    "version": 3
   },
   "file_extension": ".py",
   "mimetype": "text/x-python",
   "name": "python",
   "nbconvert_exporter": "python",
   "pygments_lexer": "ipython3",
   "version": "3.9.7"
  }
 },
 "nbformat": 4,
 "nbformat_minor": 5
}
