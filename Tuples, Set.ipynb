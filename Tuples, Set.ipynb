{
 "cells": [
  {
   "cell_type": "markdown",
   "id": "bb3a1eab",
   "metadata": {},
   "source": [
    "## Question 1.1"
   ]
  },
  {
   "cell_type": "code",
   "execution_count": 17,
   "id": "c10f103e",
   "metadata": {},
   "outputs": [
    {
     "name": "stdout",
     "output_type": "stream",
     "text": [
      "225\n"
     ]
    }
   ],
   "source": [
    "def myreduce(add,list1):\n",
    "    return add(list1)\n",
    "list1=[3,70,65,12,43,32]\n",
    "def add(list1):\n",
    "    x=0\n",
    "    for i in list1:\n",
    "        x=i+x\n",
    "    return x\n",
    "print(myreduce(add,list1))\n",
    "    "
   ]
  },
  {
   "cell_type": "markdown",
   "id": "58a55d8f",
   "metadata": {},
   "source": [
    "## Question 1.2"
   ]
  },
  {
   "cell_type": "code",
   "execution_count": 13,
   "id": "d9dab703",
   "metadata": {},
   "outputs": [
    {
     "name": "stdout",
     "output_type": "stream",
     "text": [
      "[70, 12, 32]\n"
     ]
    }
   ],
   "source": [
    "def myfilter(even,list1):\n",
    "    return even(list1)\n",
    "list1=[3,70,65,12,43,32]\n",
    "list2=[]\n",
    "def even(list1):\n",
    "    for i in list1:\n",
    "        if i%2==0:\n",
    "            list2.append(i)\n",
    "    print(list2)\n",
    "\n",
    "myfilter(even,list1)"
   ]
  },
  {
   "cell_type": "markdown",
   "id": "01927b5a",
   "metadata": {},
   "source": [
    "## Question 2"
   ]
  },
  {
   "cell_type": "code",
   "execution_count": 56,
   "id": "e4a2dc12",
   "metadata": {},
   "outputs": [
    {
     "data": {
      "text/plain": [
       "\"['x', 'xx', 'xxx', 'xxxx', 'y', 'yy', 'yyy', 'yyyy', 'z', 'zz', 'zzz', 'zzzz']\""
      ]
     },
     "execution_count": 56,
     "metadata": {},
     "output_type": "execute_result"
    }
   ],
   "source": [
    "list1=['x','y','z']\n",
    "result=[i*j for i in list1 for j in range(1,5)]\n",
    "str(result)"
   ]
  },
  {
   "cell_type": "code",
   "execution_count": 58,
   "id": "d5412f30",
   "metadata": {},
   "outputs": [
    {
     "data": {
      "text/plain": [
       "\"['x', 'y', 'z', 'xx', 'yy', 'zz', 'xxx', 'yyy', 'zzz', 'xxxx', 'yyyy', 'zzzz']\""
      ]
     },
     "execution_count": 58,
     "metadata": {},
     "output_type": "execute_result"
    }
   ],
   "source": [
    "list1=['x','y','z']\n",
    "result=[i*j for i in range(1,5) for j in list1]\n",
    "str(result)"
   ]
  },
  {
   "cell_type": "code",
   "execution_count": 64,
   "id": "5d862e64",
   "metadata": {},
   "outputs": [
    {
     "data": {
      "text/plain": [
       "[[2], [3], [4], [3], [4], [5], [4], [5], [6]]"
      ]
     },
     "execution_count": 64,
     "metadata": {},
     "output_type": "execute_result"
    }
   ],
   "source": [
    "list1=[2,3,4]\n",
    "result= [[i+j] for i in list1 for j in range(0,3)]\n",
    "result"
   ]
  },
  {
   "cell_type": "code",
   "execution_count": 70,
   "id": "afb5b28b",
   "metadata": {},
   "outputs": [
    {
     "name": "stdout",
     "output_type": "stream",
     "text": [
      "[[2], [3], [4], [3], [4], [5], [4], [5], [6]]\n"
     ]
    }
   ],
   "source": [
    "input_list = [2,3,4]\n",
    "b=[]\n",
    "for item in input_list:\n",
    "    for num in range(0,3):\n",
    "        b.append([item+num])\n",
    "\n",
    "print(b)"
   ]
  },
  {
   "cell_type": "code",
   "execution_count": 73,
   "id": "41f1fda2",
   "metadata": {},
   "outputs": [
    {
     "data": {
      "text/plain": [
       "[(1, 1), (2, 1), (3, 1), (1, 2), (2, 2), (3, 2), (1, 3), (2, 3), (3, 3)]"
      ]
     },
     "execution_count": 73,
     "metadata": {},
     "output_type": "execute_result"
    }
   ],
   "source": [
    "input_list = [1,2,3]\n",
    "result= [(num,item) for item in range(1,4) for num in input_list] \n",
    "result"
   ]
  }
 ],
 "metadata": {
  "kernelspec": {
   "display_name": "Python 3 (ipykernel)",
   "language": "python",
   "name": "python3"
  },
  "language_info": {
   "codemirror_mode": {
    "name": "ipython",
    "version": 3
   },
   "file_extension": ".py",
   "mimetype": "text/x-python",
   "name": "python",
   "nbconvert_exporter": "python",
   "pygments_lexer": "ipython3",
   "version": "3.9.7"
  }
 },
 "nbformat": 4,
 "nbformat_minor": 5
}
